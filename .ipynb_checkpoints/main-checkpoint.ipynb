{
 "cells": [
  {
   "cell_type": "markdown",
   "metadata": {},
   "source": [
    "# 2HG Reporting Tool\n",
    "## 1) Configuration\n",
    "\n",
    "- scan_id\n",
    "  - format: PatientN_YYYYMMDD (e.g. \"CarlsonB_20210208\")\n",
    "- scan_type\n",
    "  - For _3T 97ms_, use **svs_se_97**\n",
    "  - For _7T 110ms_, use **slaser_svs_110**\n",
    "- output_dir\n",
    "- verbose\n",
    "  - 0: no output\n",
    "  - 1: output best pipeline\n",
    "  - 2: output all pipelines"
   ]
  },
  {
   "cell_type": "code",
   "execution_count": 1,
   "metadata": {},
   "outputs": [],
   "source": [
    "config = {\n",
    "    'scan_id': 'FournierJ_20210507',\n",
    "    'scan_type': 'svs_se_97',\n",
    "    'output_dir': '/external/SFA/SPECTRO/users/sam/Report 2HG/output/',\n",
    "    'verbose': 1\n",
    "}"
   ]
  },
  {
   "cell_type": "markdown",
   "metadata": {},
   "source": [
    "## 2) Table\n",
    "\n",
    "Generate a table with 2HG (CRLB), 2HG/Cr+PCr, and (2HG+Gln)/Glu values.\n",
    "\n",
    "### Arguments\n",
    "\n",
    "- config (required)\n",
    "- pipelines (optional): _dict_; configuration of pipelines to display in table\n",
    "  - key: _str_; ROI name\n",
    "  - value: _str_; pipeline name\n",
    "  - each ROI defaults to best pipeline if key not in dict\n",
    "\n",
    "### Returns\n",
    "- Generates table of **2HG (CRLB)**, **2HG/Cr+PCr**, and **(2HG+Gln)/Glu**.\n",
    "- Creates a .csv in `output_dir`."
   ]
  },
  {
   "cell_type": "code",
   "execution_count": 2,
   "metadata": {},
   "outputs": [
    {
     "name": "stdout",
     "output_type": "stream",
     "text": [
      "Scan: FournierJ_20210507\n"
     ]
    },
    {
     "data": {
      "text/html": [
       "<div>\n",
       "<style scoped>\n",
       "    .dataframe tbody tr th:only-of-type {\n",
       "        vertical-align: middle;\n",
       "    }\n",
       "\n",
       "    .dataframe tbody tr th {\n",
       "        vertical-align: top;\n",
       "    }\n",
       "\n",
       "    .dataframe thead th {\n",
       "        text-align: right;\n",
       "    }\n",
       "</style>\n",
       "<table border=\"1\" class=\"dataframe\">\n",
       "  <thead>\n",
       "    <tr style=\"text-align: right;\">\n",
       "      <th></th>\n",
       "      <th>ROI</th>\n",
       "      <th>Best Pipeline</th>\n",
       "      <th>File</th>\n",
       "    </tr>\n",
       "  </thead>\n",
       "  <tbody>\n",
       "    <tr>\n",
       "      <th>0</th>\n",
       "      <td>Lesion</td>\n",
       "      <td>Fc</td>\n",
       "      <td>/external/SFA/SPECTRO_PROC/CCS_AutoProc/output/FournierJ_20210507/meas_MID02388_FID41381_svs_se_97/meas_MID02388_FID41381_svs_se_97-Fc.CSV</td>\n",
       "    </tr>\n",
       "    <tr>\n",
       "      <th>1</th>\n",
       "      <td>15x15x15</td>\n",
       "      <td>Ecc</td>\n",
       "      <td>/external/SFA/SPECTRO_PROC/CCS_AutoProc/output/FournierJ_20210507/meas_MID02398_FID41391_svs_se_97_15x15x15/meas_MID02398_FID41391_svs_se_97_15x15x15-Ecc.CSV</td>\n",
       "    </tr>\n",
       "    <tr>\n",
       "      <th>2</th>\n",
       "      <td>CL</td>\n",
       "      <td>Cc</td>\n",
       "      <td>/external/SFA/SPECTRO_PROC/CCS_AutoProc/output/FournierJ_20210507/meas_MID02404_FID41397_svs_se_97_CL/meas_MID02404_FID41397_svs_se_97_CL-Cc.CSV</td>\n",
       "    </tr>\n",
       "  </tbody>\n",
       "</table>\n",
       "</div>"
      ],
      "text/plain": [
       "        ROI Best Pipeline  \\\n",
       "0  Lesion    Fc             \n",
       "1  15x15x15  Ecc            \n",
       "2  CL        Cc             \n",
       "\n",
       "                                                                                                                                                            File  \n",
       "0  /external/SFA/SPECTRO_PROC/CCS_AutoProc/output/FournierJ_20210507/meas_MID02388_FID41381_svs_se_97/meas_MID02388_FID41381_svs_se_97-Fc.CSV                     \n",
       "1  /external/SFA/SPECTRO_PROC/CCS_AutoProc/output/FournierJ_20210507/meas_MID02398_FID41391_svs_se_97_15x15x15/meas_MID02398_FID41391_svs_se_97_15x15x15-Ecc.CSV  \n",
       "2  /external/SFA/SPECTRO_PROC/CCS_AutoProc/output/FournierJ_20210507/meas_MID02404_FID41397_svs_se_97_CL/meas_MID02404_FID41397_svs_se_97_CL-Cc.CSV               "
      ]
     },
     "metadata": {},
     "output_type": "display_data"
    },
    {
     "name": "stdout",
     "output_type": "stream",
     "text": [
      "==================================================\n"
     ]
    },
    {
     "data": {
      "text/html": [
       "<div>\n",
       "<style scoped>\n",
       "    .dataframe tbody tr th:only-of-type {\n",
       "        vertical-align: middle;\n",
       "    }\n",
       "\n",
       "    .dataframe tbody tr th {\n",
       "        vertical-align: top;\n",
       "    }\n",
       "\n",
       "    .dataframe thead th {\n",
       "        text-align: right;\n",
       "    }\n",
       "</style>\n",
       "<table border=\"1\" class=\"dataframe\">\n",
       "  <thead>\n",
       "    <tr style=\"text-align: right;\">\n",
       "      <th></th>\n",
       "      <th>ROI (Pipeline)</th>\n",
       "      <th>2HG (CRLB)</th>\n",
       "      <th>2HG/Cr+PCr</th>\n",
       "      <th>(2HG+Gln)/Glu</th>\n",
       "    </tr>\n",
       "  </thead>\n",
       "  <tbody>\n",
       "    <tr>\n",
       "      <th>0</th>\n",
       "      <td>Lesion (Ecc)</td>\n",
       "      <td>1.926 (59%)</td>\n",
       "      <td>0.215</td>\n",
       "      <td>0.67</td>\n",
       "    </tr>\n",
       "    <tr>\n",
       "      <th>1</th>\n",
       "      <td>15x15x15 (Ecc*)</td>\n",
       "      <td>0.311 (612%)</td>\n",
       "      <td>0.03</td>\n",
       "      <td>0.056</td>\n",
       "    </tr>\n",
       "    <tr>\n",
       "      <th>2</th>\n",
       "      <td>CL (Cc*)</td>\n",
       "      <td>2.603 (71%)</td>\n",
       "      <td>0.225</td>\n",
       "      <td>0.566</td>\n",
       "    </tr>\n",
       "  </tbody>\n",
       "</table>\n",
       "</div>"
      ],
      "text/plain": [
       "    ROI (Pipeline)    2HG (CRLB) 2HG/Cr+PCr (2HG+Gln)/Glu\n",
       "0  Lesion (Ecc)     1.926 (59%)   0.215      0.67        \n",
       "1  15x15x15 (Ecc*)  0.311 (612%)  0.03       0.056       \n",
       "2  CL (Cc*)         2.603 (71%)   0.225      0.566       "
      ]
     },
     "metadata": {},
     "output_type": "display_data"
    },
    {
     "name": "stdout",
     "output_type": "stream",
     "text": [
      "Processing complete. Table saved to /external/SFA/SPECTRO/users/sam/Report 2HG/output/FournierJ_20210507\n"
     ]
    }
   ],
   "source": [
    "from utils.table import generate_table\n",
    "\n",
    "pipelines = {\n",
    "    'Lesion': 'Ecc'\n",
    "}\n",
    "\n",
    "generate_table(config, pipelines)"
   ]
  },
  {
   "cell_type": "markdown",
   "metadata": {},
   "source": [
    "## 3) Boxplots\n",
    "\n",
    "Generate 2HG (CRLB), 2HG/Cr+PCr, and (2HG+Gln)/Glu values and boxplots for all voxels and pipelines in given scan.\n",
    "\n",
    "### Arguments\n",
    "- config (required)\n",
    "\n",
    "### Returns\n",
    "- Generates boxplots of **2HG (CRLB)**, **2HG/Cr+PCr**, and **(2HG+Gln)/Glu**.\n",
    "- Creates a directory in `output_dir` and writes .png files inside that directory."
   ]
  },
  {
   "cell_type": "code",
   "execution_count": null,
   "metadata": {
    "scrolled": false
   },
   "outputs": [],
   "source": [
    "from utils.boxplots import generate_plots\n",
    "\n",
    "generate_plots(config)"
   ]
  },
  {
   "cell_type": "markdown",
   "metadata": {},
   "source": [
    "## 4) Progression Plot (Optional)\n",
    "\n",
    "Generate progression plot. Automatic progression will run if the patient has the standard lesion and healthy contralateral voxel. If the patient has additional voxels, manual processing must be done by passing in a `scan_history` dictionary.\n",
    "\n",
    "### Arguments\n",
    "- config (required)\n",
    "- dates_to_exclude (optional): _list_; dates to exclude from **automatic** processing; is ignore if using manual processing\n",
    "  - e.g. `dates_to_exclude = ['20200401', '20200701']`\n",
    "- scan_history (optional): _dict_; configuration for **manual** processing. `Numbers` correspond to **SpecN**, or **index - 2**, where index is the row index of the scan in the 2HG CCS_Database **input** file. `Strings` correspond to the path to the CCS_Autoproc output.\n",
    "  - key: _str_; ROI name\n",
    "  - value: _list_; SpecN and file path\n",
    "  - e.g. \n",
    "  ```\n",
    "    scan_history = {\n",
    "        '20x20x20 Lesion': [\n",
    "            474,\n",
    "           '.../CCS_AutoProc/output/StinsonL_20210503/meas_MID00499_FID39492_svs_se_97_18x40x20'\n",
    "        ],\n",
    "        '20x20x15 Lesion': [\n",
    "            476,\n",
    "           '.../CCS_AutoProc/output/StinsonL_20210503/meas_MID00499_FID39492_svs_se_97_18x40x20'\n",
    "        ],\n",
    "        '20x20x20 Contralateral': [\n",
    "            475,\n",
    "           '.../CCS_AutoProc/output/StinsonL_20210503/meas_MID00499_FID39492_svs_se_97_18x40x20'\n",
    "        ]\n",
    "    }\n",
    "  ```\n",
    "\n",
    "### Returns\n",
    "- Generates progression plot of **2HG (CRLB)**, **2HG/Cr+PCr**, and **(2HG+Gln)/Glu**.\n",
    "- Writes progression plot inside `output_dir`."
   ]
  },
  {
   "cell_type": "code",
   "execution_count": null,
   "metadata": {},
   "outputs": [],
   "source": [
    "from utils.progression import generate_progression\n",
    "\n",
    "dates_to_exclude = []\n",
    "scan_history = {\n",
    "    'lesion': [\n",
    "        474,\n",
    "        '/external/SFA/SPECTRO_PROC/CCS_AutoProc/output/StinsonL_20210503/meas_MID00499_FID39492_svs_se_97_18x40x20'\n",
    "    ]\n",
    "}\n",
    "\n",
    "generate_progression(config, dates_to_exclude)"
   ]
  },
  {
   "cell_type": "code",
   "execution_count": null,
   "metadata": {},
   "outputs": [],
   "source": []
  }
 ],
 "metadata": {
  "kernelspec": {
   "display_name": "Python 3",
   "language": "python",
   "name": "python3"
  },
  "language_info": {
   "codemirror_mode": {
    "name": "ipython",
    "version": 3
   },
   "file_extension": ".py",
   "mimetype": "text/x-python",
   "name": "python",
   "nbconvert_exporter": "python",
   "pygments_lexer": "ipython3",
   "version": "3.6.5"
  }
 },
 "nbformat": 4,
 "nbformat_minor": 2
}
